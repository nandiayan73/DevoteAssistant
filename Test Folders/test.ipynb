{
 "cells": [
  {
   "cell_type": "code",
   "execution_count": 1,
   "metadata": {},
   "outputs": [],
   "source": [
    "import subprocess\n",
    "command = ['ls', '-l']  # List files in the current directory in long format\n",
    "\n",
    "# Run the command\n",
    "result = subprocess.run(command, capture_output=True, text=True)\n"
   ]
  },
  {
   "cell_type": "code",
   "execution_count": 2,
   "metadata": {},
   "outputs": [
    {
     "name": "stdout",
     "output_type": "stream",
     "text": [
      "total 33\n",
      "-rw-rw-r-- 1 ayan-nandi ayan-nandi   326 Aug 15 17:04 geminiTest.py\n",
      "drwxrwxr-x 6 ayan-nandi ayan-nandi     8 Aug 15 15:28 myenv\n",
      "-rw-rw-r-- 1 ayan-nandi ayan-nandi 40334 Aug 15 16:06 playsong.ipynb\n",
      "-rw-rw-r-- 1 ayan-nandi ayan-nandi   179 Aug 15 16:45 tempCodeRunnerFile.py\n",
      "-rw-rw-r-- 1 ayan-nandi ayan-nandi     0 Aug 15 17:06 test.ipynb\n",
      "\n"
     ]
    }
   ],
   "source": [
    "print(result.stdout)"
   ]
  },
  {
   "cell_type": "code",
   "execution_count": 20,
   "metadata": {},
   "outputs": [
    {
     "name": "stdout",
     "output_type": "stream",
     "text": [
      "Jai Shree Krishna! \n",
      "\n",
      "May Lord Krishna bless you with joy, peace, and prosperity. \n",
      "\n",
      "\n"
     ]
    }
   ],
   "source": [
    "result = subprocess.run(['python3', \"geminiTest.py\"], capture_output=True, text=True)\n",
    "print(result.stdout)"
   ]
  },
  {
   "cell_type": "code",
   "execution_count": 38,
   "metadata": {},
   "outputs": [
    {
     "name": "stdout",
     "output_type": "stream",
     "text": [
      "Script output: Siu Hello from the caller script!\n",
      "\n"
     ]
    }
   ],
   "source": [
    "\n",
    "def send_text_to_script(text):\n",
    "    # Call the script and send input via stdin\n",
    "    process = subprocess.Popen(\n",
    "        ['python3', 'ReadFromTerminal.py'],\n",
    "        stdin=subprocess.PIPE,\n",
    "        stdout=subprocess.PIPE,\n",
    "        stderr=subprocess.PIPE,\n",
    "        text=True  # Ensures that input and output are handled as strings\n",
    "    )\n",
    "\n",
    "    # Send the text to the script\n",
    "    stdout, stderr = process.communicate(input=text)\n",
    "\n",
    "    # Print the output from the script\n",
    "    print(\"Script output:\", stdout)\n",
    "    if stderr:\n",
    "        print(\"Script error:\", stderr)\n",
    "\n",
    "# Example usage\n",
    "text = \"Hello from the caller script!\"\n",
    "send_text_to_script(text)\n"
   ]
  },
  {
   "cell_type": "code",
   "execution_count": 45,
   "metadata": {},
   "outputs": [
    {
     "name": "stdout",
     "output_type": "stream",
     "text": [
      "Output:\n",
      "Track ID: 5Yk5pn38SvDWN0cIv3lLNz\n",
      "Track Name: Govind Bolo\n",
      "Artist: Jubin Nautiyal\n",
      "0: ayan-nandi-HP-Laptop-14s-fq1xxx (Computer)\n",
      "Playing track: spotify:track:5Yk5pn38SvDWN0cIv3lLNz\n",
      "\n",
      "Errors:\n",
      "\n"
     ]
    }
   ],
   "source": [
    "# run_script.py\n",
    "\n",
    "import subprocess\n",
    "import json\n",
    "\n",
    "# Dictionary to be passed\n",
    "data = {\n",
    "    'track_name': 'Govind Bolo',\n",
    "    'artist_name': 'Jubin Nautiyal',\n",
    "}\n",
    "\n",
    "# Convert dictionary to JSON string\n",
    "dict_str = json.dumps(data)\n",
    "\n",
    "# Command to execute the Python script\n",
    "command = ['python3', 'playMusic.py', dict_str]\n",
    "\n",
    "# Run the command\n",
    "result = subprocess.run(command, capture_output=True, text=True)\n",
    "\n",
    "# Print the output and error messages\n",
    "print(\"Output:\")\n",
    "print(result.stdout)\n",
    "print(\"Errors:\")\n",
    "print(result.stderr)\n"
   ]
  }
 ],
 "metadata": {
  "kernelspec": {
   "display_name": "myenv",
   "language": "python",
   "name": "python3"
  },
  "language_info": {
   "codemirror_mode": {
    "name": "ipython",
    "version": 3
   },
   "file_extension": ".py",
   "mimetype": "text/x-python",
   "name": "python",
   "nbconvert_exporter": "python",
   "pygments_lexer": "ipython3",
   "version": "3.12.3"
  }
 },
 "nbformat": 4,
 "nbformat_minor": 2
}
