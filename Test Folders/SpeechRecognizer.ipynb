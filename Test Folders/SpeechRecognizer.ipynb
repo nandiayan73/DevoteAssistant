{
 "cells": [
  {
   "cell_type": "code",
   "execution_count": 3,
   "metadata": {},
   "outputs": [
    {
     "name": "stdout",
     "output_type": "stream",
     "text": [
      "Recording...\n",
      "Recording complete\n",
      "You said: hello hello hello\n"
     ]
    }
   ],
   "source": [
    "import sounddevice as sd\n",
    "import numpy as np\n",
    "import wave\n",
    "import speech_recognition as sr\n",
    "\n",
    "# Define parameters\n",
    "SAMPLE_RATE = 44100\n",
    "DURATION = 5  # seconds\n",
    "\n",
    "# Record audio\n",
    "print(\"Recording...\")\n",
    "audio_data = sd.rec(int(DURATION * SAMPLE_RATE), samplerate=SAMPLE_RATE, channels=1, dtype='int16')\n",
    "sd.wait()\n",
    "print(\"Recording complete\")\n",
    "\n",
    "# Save to a WAV file using wave module\n",
    "with wave.open(\"output.wav\", 'wb') as wf:\n",
    "    wf.setnchannels(1)  # mono\n",
    "    wf.setsampwidth(2)  # 2 bytes per sample\n",
    "    wf.setframerate(SAMPLE_RATE)\n",
    "    wf.writeframes(audio_data.tobytes())\n",
    "\n",
    "# Initialize recognizer\n",
    "recognizer = sr.Recognizer()\n",
    "\n",
    "# Load the recorded audio\n",
    "with sr.AudioFile(\"output.wav\") as source:\n",
    "    audio = recognizer.record(source)\n",
    "\n",
    "# Recognize speech using Google Web Speech API\n",
    "try:\n",
    "    text = recognizer.recognize_google(audio)\n",
    "    print(\"You said: \" + text)\n",
    "except sr.UnknownValueError:\n",
    "    print(\"Sorry, I could not understand the audio.\")\n",
    "except sr.RequestError as e:\n",
    "    print(f\"Could not request results; {e}\")\n"
   ]
  }
 ],
 "metadata": {
  "kernelspec": {
   "display_name": "myenv",
   "language": "python",
   "name": "python3"
  },
  "language_info": {
   "codemirror_mode": {
    "name": "ipython",
    "version": 3
   },
   "file_extension": ".py",
   "mimetype": "text/x-python",
   "name": "python",
   "nbconvert_exporter": "python",
   "pygments_lexer": "ipython3",
   "version": "3.12.3"
  }
 },
 "nbformat": 4,
 "nbformat_minor": 2
}
