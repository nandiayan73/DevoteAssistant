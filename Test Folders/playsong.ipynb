{
 "cells": [
  {
   "cell_type": "code",
   "execution_count": 9,
   "metadata": {},
   "outputs": [],
   "source": [
    "import spotipy\n",
    "from spotipy.oauth2 import SpotifyOAuth\n",
    "\n",
    "\n"
   ]
  },
  {
   "cell_type": "code",
   "execution_count": 10,
   "metadata": {},
   "outputs": [],
   "source": [
    "# Your Spotify Developer credentials\n",
    "CLIENT_ID = '6b3eaa70c704464c8364374d9af32f53'\n",
    "CLIENT_SECRET = '93c3d55fdd2d4feca9150c9216363ef6'\n",
    "REDIRECT_URI = 'http://localhost:8888/callback'\n",
    "SCOPE = 'user-library-read user-modify-playback-state user-read-playback-state'\n",
    "sp = spotipy.Spotify(auth_manager=SpotifyOAuth(\n",
    "    client_id=CLIENT_ID,\n",
    "    client_secret=CLIENT_SECRET,\n",
    "    redirect_uri=REDIRECT_URI,\n",
    "    scope=SCOPE\n",
    "))"
   ]
  },
  {
   "cell_type": "code",
   "execution_count": 11,
   "metadata": {},
   "outputs": [
    {
     "name": "stdout",
     "output_type": "stream",
     "text": [
      "Track Information:\n",
      "Name: Blinding Lights\n",
      "Artist: The Weeknd\n",
      "Album: After Hours\n",
      "Release Date: 2020-03-20\n",
      "Duration (ms): 200040\n",
      "Popularity: 89\n"
     ]
    }
   ],
   "source": [
    "# Function to get track information\n",
    "def get_track_info(track_id):\n",
    "    track = sp.track(track_id)\n",
    "    return {\n",
    "        'name': track['name'],\n",
    "        'artist': track['artists'][0]['name'],\n",
    "        'album': track['album']['name'],\n",
    "        'release_date': track['album']['release_date'],\n",
    "        'duration_ms': track['duration_ms'],\n",
    "        'popularity': track['popularity']\n",
    "    }\n",
    "# Fetch track information\n",
    "track_id = '0VjIjW4GlUZAMYd2vXMi3b'  # Known valid track ID for \"Blinding Lights\" by The Weeknd\n",
    "track_info = get_track_info(track_id)\n",
    "\n",
    "# Print track information\n",
    "print(\"Track Information:\")\n",
    "print(f\"Name: {track_info['name']}\")\n",
    "print(f\"Artist: {track_info['artist']}\")\n",
    "print(f\"Album: {track_info['album']}\")\n",
    "print(f\"Release Date: {track_info['release_date']}\")\n",
    "print(f\"Duration (ms): {track_info['duration_ms']}\")\n",
    "print(f\"Popularity: {track_info['popularity']}\")\n",
    "\n",
    "\n"
   ]
  },
  {
   "cell_type": "code",
   "execution_count": 19,
   "metadata": {},
   "outputs": [],
   "source": [
    "def play_track(track_id):\n",
    "    devices = sp.devices()\n",
    "    if devices['devices']:\n",
    "        for i, device in enumerate(devices['devices']):\n",
    "            print(f\"{i}: {device['name']} ({device['type']})\")\n",
    "        device_id = devices['devices'][0]['id']  # Use the first available device\n",
    "        track_uri = f'spotify:track:{track_id}'\n",
    "        sp.start_playback(device_id=device_id, uris=[track_uri])\n",
    "        print(f\"Playing track: {track_uri}\")\n",
    "    else:\n",
    "        print(\"No active device found. Please open Spotify on a device.\")\n"
   ]
  },
  {
   "cell_type": "code",
   "execution_count": 30,
   "metadata": {},
   "outputs": [
    {
     "name": "stdout",
     "output_type": "stream",
     "text": [
      "Track ID: 2GXXZFUxYg2LvG8SR0byOE\n",
      "Track Name: Jeena Jeena\n",
      "Artist: Atif Aslam\n",
      "0: ayan-nandi-HP-Laptop-14s-fq1xxx (Computer)\n",
      "Playing track: spotify:track:2GXXZFUxYg2LvG8SR0byOE\n"
     ]
    }
   ],
   "source": [
    "def search_track(track_name, artist_name=None):\n",
    "    query = f'track:{track_name}'\n",
    "    if artist_name:\n",
    "        query += f' artist:{artist_name}'\n",
    "    results = sp.search(q=query, type='track', limit=1)\n",
    "    if results['tracks']['items']:\n",
    "        track = results['tracks']['items'][0]\n",
    "        return track['id'], track['name'], track['artists'][0]['name']\n",
    "    else:\n",
    "        return None\n",
    "\n",
    "# Search for the track\n",
    "track_name = \"Jeena Jeena\"\n",
    "artist_name = \"Atif Aslam\"\n",
    "track_info = search_track(track_name, artist_name)\n",
    "if track_info:\n",
    "    track_id, track_name, artist_name = track_info\n",
    "    print(f\"Track ID: {track_id}\")\n",
    "    print(f\"Track Name: {track_name}\")\n",
    "    print(f\"Artist: {artist_name}\")\n",
    "    play_track(track_id)\n",
    "else:\n",
    "    print(\"Track not found.\")"
   ]
  }
 ],
 "metadata": {
  "kernelspec": {
   "display_name": "Python 3",
   "language": "python",
   "name": "python3"
  },
  "language_info": {
   "codemirror_mode": {
    "name": "ipython",
    "version": 3
   },
   "file_extension": ".py",
   "mimetype": "text/x-python",
   "name": "python",
   "nbconvert_exporter": "python",
   "pygments_lexer": "ipython3",
   "version": "3.12.3"
  }
 },
 "nbformat": 4,
 "nbformat_minor": 2
}
